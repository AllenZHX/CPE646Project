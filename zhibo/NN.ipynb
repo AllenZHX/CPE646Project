{
 "metadata": {
  "anaconda-cloud": {},
  "kernelspec": {
   "display_name": "Python [Root]",
   "language": "python",
   "name": "Python [Root]"
  },
  "language_info": {
   "codemirror_mode": {
    "name": "ipython",
    "version": 3
   },
   "file_extension": ".py",
   "mimetype": "text/x-python",
   "name": "python",
   "nbconvert_exporter": "python",
   "pygments_lexer": "ipython3",
   "version": "3.5.2"
  },
  "name": "",
  "signature": "sha256:fd2d779179940b1e471bdf2efa47f4e09eeb514cd2f7b1685eb632bd6633f963"
 },
 "nbformat": 3,
 "nbformat_minor": 0,
 "worksheets": [
  {
   "cells": [
    {
     "cell_type": "code",
     "collapsed": false,
     "input": [
      "import numpy as np\n",
      "import pandas as pd\n",
      "from sklearn.cross_validation import train_test_split"
     ],
     "language": "python",
     "metadata": {},
     "outputs": [
      {
       "output_type": "stream",
       "stream": "stderr",
       "text": [
        "/home/hong/.local/lib/python2.7/site-packages/sklearn/cross_validation.py:44: DeprecationWarning: This module was deprecated in version 0.18 in favor of the model_selection module into which all the refactored classes and functions are moved. Also note that the interface of the new CV iterators are different from that of this module. This module will be removed in 0.20.\n",
        "  \"This module will be removed in 0.20.\", DeprecationWarning)\n"
       ]
      }
     ],
     "prompt_number": 1
    },
    {
     "cell_type": "code",
     "collapsed": true,
     "input": [
      "#Sigmoid function\n",
      "\n",
      "def nonlin(x, deriv = False):\n",
      "    if (deriv == True):\n",
      "       return x * (1 - x)\n",
      "    else:\n",
      "       return 1/(1 + np.exp(-x))"
     ],
     "language": "python",
     "metadata": {},
     "outputs": [],
     "prompt_number": 2
    },
    {
     "cell_type": "code",
     "collapsed": false,
     "input": [
      "all_data = pd.read_csv('../data/voice.csv')\n",
      "label = all_data.pop('label')\n",
      "\n",
      "all_data = all_data.values\n",
      "\n",
      "label.replace(['male','female'], [1, 0], inplace = True)\n",
      "label = label.values\n",
      "\n",
      "train_data, test_data, train_labels, test_labels = train_test_split(all_data, label, test_size = 0.2)\n",
      "\n",
      "train_data, test_data, train_labels, test_labels = np.array(train_data, dtype = 'float32'), np.array(test_data, dtype = 'float32'),np.array(train_labels, dtype = 'float32'),np.array(test_labels, dtype = 'float32')\n",
      "\n",
      "print(len(train_data))\n",
      "print(len(test_data))\n"
     ],
     "language": "python",
     "metadata": {},
     "outputs": [
      {
       "output_type": "stream",
       "stream": "stdout",
       "text": [
        "2534\n",
        "634\n"
       ]
      }
     ],
     "prompt_number": 3
    },
    {
     "cell_type": "code",
     "collapsed": false,
     "input": [
      "#To ensure random number of every loop is the same\n",
      "np.random.seed(1245)\n",
      "#Initialize weights\n",
      "syn0 = 2 * np.random.random((20,1)) - 1\n",
      "l0 = train_data\n",
      "#Keep updating weights\n",
      "for iter in range(1000000):\n",
      "    #l0 = train_data\n",
      "    #Input(l0) with weights(syn0) \n",
      "    #Combined by sigmoid function\n",
      "    l1 = nonlin(np.dot(l0,syn0))\n",
      "    #print(l1.shape)\n",
      "    #How different that l1 from exact labels\n",
      "    l1_error = train_labels.T - l1.T\n",
      "    #print(train_labels.T.shape)\n",
      "    \n",
      "    #l1_delta = l1_error.T * nonlin(l1, True)\n",
      "    #syn0 += np.dot(l0.T, l1_delta)\n",
      "    syn0 += np.dot(l0.T, l1_error.T)\n",
      "    "
     ],
     "language": "python",
     "metadata": {},
     "outputs": [],
     "prompt_number": 4
    },
    {
     "cell_type": "code",
     "collapsed": false,
     "input": [
      "count_0 = 0\n",
      "count_1 = 0\n",
      "for i in l1:\n",
      "    if 0 in i:\n",
      "       count_0 += 1\n",
      "    else:\n",
      "       count_1 += 1\n",
      "print(\"predicted number of female\", count_0)\n",
      "print(\"predicted number of male\", count_1)\n",
      "print(\"total number of train data:\",count_0 + count_1)"
     ],
     "language": "python",
     "metadata": {},
     "outputs": [
      {
       "output_type": "stream",
       "stream": "stdout",
       "text": [
        "('predicted number of female', 1344)\n",
        "('predicted number of male', 1190)\n",
        "('total number of train data:', 2534)\n"
       ]
      }
     ],
     "prompt_number": 5
    },
    {
     "cell_type": "code",
     "collapsed": false,
     "input": [
      "correct_predic = 0\n",
      "wrong_predic = 0\n",
      "#Do not forget to change range when changing training-test ratio\n",
      "for i in range(0,2534):\n",
      "    if train_labels[i] == l1[i]:\n",
      "       correct_predic += 1\n",
      "    else:\n",
      "       wrong_predic += 1\n",
      "    \n",
      "print(\"Number of correct prediction\", correct_predic)\n",
      "print(\"Number of wrong prediction\", wrong_predic)"
     ],
     "language": "python",
     "metadata": {},
     "outputs": [
      {
       "output_type": "stream",
       "stream": "stdout",
       "text": [
        "('Number of correct prediction', 2380)\n",
        "('Number of wrong prediction', 154)\n"
       ]
      }
     ],
     "prompt_number": 6
    },
    {
     "cell_type": "code",
     "collapsed": false,
     "input": [
      "print(\"Correct rate is: \")\n",
      "print(float(correct_predic)/(wrong_predic+correct_predic))"
     ],
     "language": "python",
     "metadata": {},
     "outputs": [
      {
       "output_type": "stream",
       "stream": "stdout",
       "text": [
        "Correct rate is: \n",
        "0.939226519337\n"
       ]
      }
     ],
     "prompt_number": 8
    },
    {
     "cell_type": "code",
     "collapsed": false,
     "input": [
      "#Test part\n",
      "\n",
      "l0 = test_data\n",
      "   \n",
      "l1 = nonlin(np.dot(l0,syn0))\n",
      "    \n",
      "    "
     ],
     "language": "python",
     "metadata": {},
     "outputs": [],
     "prompt_number": 9
    },
    {
     "cell_type": "code",
     "collapsed": false,
     "input": [
      "count_0 = 0\n",
      "count_1 = 0\n",
      "for i in l1:\n",
      "    if 0 in i:\n",
      "       count_0 += 1\n",
      "    else:\n",
      "       count_1 += 1\n",
      "print(\"predicted number of female\", count_0)\n",
      "print(\"predicted number of male\", count_1)\n",
      "print(\"total number of train data:\",count_0 + count_1)"
     ],
     "language": "python",
     "metadata": {},
     "outputs": [
      {
       "output_type": "stream",
       "stream": "stdout",
       "text": [
        "('predicted number of female', 421)\n",
        "('predicted number of male', 213)\n",
        "('total number of train data:', 634)\n"
       ]
      }
     ],
     "prompt_number": 10
    },
    {
     "cell_type": "code",
     "collapsed": false,
     "input": [
      "correct_predic = 0\n",
      "wrong_predic = 0\n",
      "for i in range(0,316):\n",
      "    if test_labels[i] == l1[i]:\n",
      "       correct_predic += 1\n",
      "    else:\n",
      "       wrong_predic += 1\n",
      "    \n",
      "print(\"Number of correct prediction\", correct_predic)\n",
      "print(\"Number of wrong prediction\", wrong_predic)"
     ],
     "language": "python",
     "metadata": {},
     "outputs": [
      {
       "output_type": "stream",
       "stream": "stdout",
       "text": [
        "('Number of correct prediction', 260)\n",
        "('Number of wrong prediction', 56)\n"
       ]
      }
     ],
     "prompt_number": 11
    },
    {
     "cell_type": "code",
     "collapsed": false,
     "input": [
      "print(\"Correct rate is: \", float(correct_predic)/(wrong_predic + correct_predic))"
     ],
     "language": "python",
     "metadata": {},
     "outputs": [
      {
       "output_type": "stream",
       "stream": "stdout",
       "text": [
        "('Correct rate is: ', 0.8227848101265823)\n"
       ]
      }
     ],
     "prompt_number": 12
    },
    {
     "cell_type": "code",
     "collapsed": true,
     "input": [],
     "language": "python",
     "metadata": {},
     "outputs": [],
     "prompt_number": null
    }
   ],
   "metadata": {}
  }
 ]
}