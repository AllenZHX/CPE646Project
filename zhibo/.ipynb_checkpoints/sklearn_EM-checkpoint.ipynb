{
 "metadata": {
  "anaconda-cloud": {},
  "kernelspec": {
   "display_name": "Python [Root]",
   "language": "python",
   "name": "Python [Root]"
  },
  "language_info": {
   "codemirror_mode": {
    "name": "ipython",
    "version": 3
   },
   "file_extension": ".py",
   "mimetype": "text/x-python",
   "name": "python",
   "nbconvert_exporter": "python",
   "pygments_lexer": "ipython3",
   "version": "3.5.2"
  },
  "name": "",
  "signature": "sha256:ae676b0f60044d6e5807fa4b11f951cfa1b00c7d45305544040cb5754cef7b9c"
 },
 "nbformat": 3,
 "nbformat_minor": 0,
 "worksheets": [
  {
   "cells": [
    {
     "cell_type": "code",
     "collapsed": false,
     "input": [
      "import matplotlib.pyplot as plt\n",
      "import matplotlib as mpl\n",
      "import numpy as np\n",
      "import pandas as pd\n",
      "\n",
      "from sklearn import datasets\n",
      "from sklearn.cross_validation import train_test_split\n",
      "from sklearn.externals.six.moves import xrange\n",
      "from sklearn.mixture import GMM\n"
     ],
     "language": "python",
     "metadata": {},
     "outputs": [],
     "prompt_number": 10
    },
    {
     "cell_type": "code",
     "collapsed": true,
     "input": [
      "def make_ellipses(gmm, ax):\n",
      "    for n, color in enumerate('rgb'):\n",
      "        v, w = np.linalg.eigh(gmm._get_covars()[n][:2, :2])\n",
      "        u = w[0] / np.linalg.norm(w[0])\n",
      "        angle = np.arctan2(u[1], u[0])\n",
      "        angle = 180 * angle / np.pi  # convert to degrees\n",
      "        v *= 9\n",
      "        ell = mpl.patches.Ellipse(gmm.means_[n, :2], v[0], v[1],\n",
      "                                  180 + angle, color=color)\n",
      "        ell.set_clip_box(ax.bbox)\n",
      "        ell.set_alpha(0.5)\n",
      "        ax.add_artist(ell)"
     ],
     "language": "python",
     "metadata": {},
     "outputs": [],
     "prompt_number": 11
    },
    {
     "cell_type": "code",
     "collapsed": false,
     "input": [
      "data = pd.read_csv(\"../data/voice.csv\")\n",
      "label = data.pop('label')\n",
      "\n",
      "data = data.values\n",
      "\n",
      "label.replace(['male','female'], [1, 0], inplace = True)\n",
      "label = label.values\n",
      "\n",
      "train_data, test_data, train_labels, test_labels = train_test_split(data, label, test_size = 0.2)\n",
      "\n",
      "train_data, test_data, train_labels, test_labels = np.array(train_data, dtype = 'float32'), np.array(test_data, dtype = 'float32'),np.array(train_labels, dtype = 'float32'),np.array(test_labels, dtype = 'float32')\n",
      "\n",
      "\n",
      "X_train = train_data\n",
      "y_train = train_labels\n",
      "X_test = test_data\n",
      "y_test = test_labels\n",
      "\n",
      "n_classes = len(np.unique(y_train))\n",
      "\n",
      "classifiers = dict((covar_type, GMM(n_components=n_classes,\n",
      "                    covariance_type=covar_type, init_params='wc', n_iter=20))\n",
      "                   for covar_type in ['tied'])\n",
      "\n",
      "n_classifiers = len(classifiers)\n",
      "\n",
      "for index, (name, classifier) in enumerate(classifiers.items()):\n",
      "    # Since we have class labels for the training data, we can\n",
      "    # initialize the GMM parameters in a supervised manner.\n",
      "    classifier.means_ = np.array([X_train[y_train == i].mean(axis=0)\n",
      "                                  for i in xrange(n_classes)])\n",
      "    \n",
      "    # Train the other parameters using the EM algorithm.\n",
      "    classifier.fit(X_train)\n",
      "\n",
      "    y_train_pred = classifier.predict(X_train)\n",
      "    train_accuracy = np.mean(y_train_pred.ravel() == y_train.ravel()) * 100\n",
      "    print('Train accuracy: %.1f' % train_accuracy)\n",
      "\n",
      "    y_test_pred = classifier.predict(X_test)\n",
      "    test_accuracy = np.mean(y_test_pred.ravel() == y_test.ravel()) * 100\n",
      "    print('Test accuracy: %.1f' % test_accuracy)"
     ],
     "language": "python",
     "metadata": {},
     "outputs": [
      {
       "output_type": "stream",
       "stream": "stdout",
       "text": [
        "Train accuracy: 82.9\n",
        "Test accuracy: 84.1\n"
       ]
      },
      {
       "output_type": "stream",
       "stream": "stderr",
       "text": [
        "/home/yangzhibo5947/anaconda3/lib/python3.5/site-packages/sklearn/utils/deprecation.py:52: DeprecationWarning: Class GMM is deprecated; The class GMM is deprecated in 0.18 and will be  removed in 0.20. Use class GaussianMixture instead.\n",
        "  warnings.warn(msg, category=DeprecationWarning)\n",
        "/home/yangzhibo5947/anaconda3/lib/python3.5/site-packages/sklearn/utils/deprecation.py:70: DeprecationWarning: Function distribute_covar_matrix_to_match_covariance_type is deprecated; The functon distribute_covar_matrix_to_match_covariance_typeis deprecated in 0.18 and will be removed in 0.20.\n",
        "  warnings.warn(msg, category=DeprecationWarning)\n",
        "/home/yangzhibo5947/anaconda3/lib/python3.5/site-packages/sklearn/utils/deprecation.py:70: DeprecationWarning: Function log_multivariate_normal_density is deprecated; The function log_multivariate_normal_density is deprecated in 0.18 and will be removed in 0.20.\n",
        "  warnings.warn(msg, category=DeprecationWarning)\n",
        "/home/yangzhibo5947/anaconda3/lib/python3.5/site-packages/sklearn/utils/deprecation.py:70: DeprecationWarning: Function log_multivariate_normal_density is deprecated; The function log_multivariate_normal_density is deprecated in 0.18 and will be removed in 0.20.\n",
        "  warnings.warn(msg, category=DeprecationWarning)\n",
        "/home/yangzhibo5947/anaconda3/lib/python3.5/site-packages/sklearn/utils/deprecation.py:70: DeprecationWarning: Function log_multivariate_normal_density is deprecated; The function log_multivariate_normal_density is deprecated in 0.18 and will be removed in 0.20.\n",
        "  warnings.warn(msg, category=DeprecationWarning)\n",
        "/home/yangzhibo5947/anaconda3/lib/python3.5/site-packages/sklearn/utils/deprecation.py:70: DeprecationWarning: Function log_multivariate_normal_density is deprecated; The function log_multivariate_normal_density is deprecated in 0.18 and will be removed in 0.20.\n",
        "  warnings.warn(msg, category=DeprecationWarning)\n",
        "/home/yangzhibo5947/anaconda3/lib/python3.5/site-packages/sklearn/utils/deprecation.py:70: DeprecationWarning: Function log_multivariate_normal_density is deprecated; The function log_multivariate_normal_density is deprecated in 0.18 and will be removed in 0.20.\n",
        "  warnings.warn(msg, category=DeprecationWarning)\n",
        "/home/yangzhibo5947/anaconda3/lib/python3.5/site-packages/sklearn/utils/deprecation.py:70: DeprecationWarning: Function log_multivariate_normal_density is deprecated; The function log_multivariate_normal_density is deprecated in 0.18 and will be removed in 0.20.\n",
        "  warnings.warn(msg, category=DeprecationWarning)\n"
       ]
      }
     ],
     "prompt_number": 22
    },
    {
     "cell_type": "code",
     "collapsed": true,
     "input": [],
     "language": "python",
     "metadata": {},
     "outputs": [],
     "prompt_number": null
    }
   ],
   "metadata": {}
  }
 ]
}